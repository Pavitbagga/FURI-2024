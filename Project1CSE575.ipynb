{
  "nbformat": 4,
  "nbformat_minor": 0,
  "metadata": {
    "colab": {
      "provenance": [],
      "include_colab_link": true
    },
    "kernelspec": {
      "name": "python3",
      "display_name": "Python 3"
    },
    "language_info": {
      "name": "python"
    },
    "widgets": {
      "application/vnd.jupyter.widget-state+json": {
        "f2a6ce7fa80e496284d98f2cd0160631": {
          "model_module": "@jupyter-widgets/controls",
          "model_name": "HBoxModel",
          "model_module_version": "1.5.0",
          "state": {
            "_dom_classes": [],
            "_model_module": "@jupyter-widgets/controls",
            "_model_module_version": "1.5.0",
            "_model_name": "HBoxModel",
            "_view_count": null,
            "_view_module": "@jupyter-widgets/controls",
            "_view_module_version": "1.5.0",
            "_view_name": "HBoxView",
            "box_style": "",
            "children": [
              "IPY_MODEL_a9ae2b5b770442ed91f89a6257b26791",
              "IPY_MODEL_1e810de16b424ba58a06312636b57201",
              "IPY_MODEL_5947ddba3252417a8dc8540a3e095ee0"
            ],
            "layout": "IPY_MODEL_fe14f70c7bad48d28b2a2a887f45560d"
          }
        },
        "a9ae2b5b770442ed91f89a6257b26791": {
          "model_module": "@jupyter-widgets/controls",
          "model_name": "HTMLModel",
          "model_module_version": "1.5.0",
          "state": {
            "_dom_classes": [],
            "_model_module": "@jupyter-widgets/controls",
            "_model_module_version": "1.5.0",
            "_model_name": "HTMLModel",
            "_view_count": null,
            "_view_module": "@jupyter-widgets/controls",
            "_view_module_version": "1.5.0",
            "_view_name": "HTMLView",
            "description": "",
            "description_tooltip": null,
            "layout": "IPY_MODEL_8414c0d150b3499091c541ac52791906",
            "placeholder": "​",
            "style": "IPY_MODEL_88cd00287760445885d03b147c109094",
            "value": "Dl Completed...: 100%"
          }
        },
        "1e810de16b424ba58a06312636b57201": {
          "model_module": "@jupyter-widgets/controls",
          "model_name": "FloatProgressModel",
          "model_module_version": "1.5.0",
          "state": {
            "_dom_classes": [],
            "_model_module": "@jupyter-widgets/controls",
            "_model_module_version": "1.5.0",
            "_model_name": "FloatProgressModel",
            "_view_count": null,
            "_view_module": "@jupyter-widgets/controls",
            "_view_module_version": "1.5.0",
            "_view_name": "ProgressView",
            "bar_style": "success",
            "description": "",
            "description_tooltip": null,
            "layout": "IPY_MODEL_49e95b85432e42a8b4aab065a7158944",
            "max": 5,
            "min": 0,
            "orientation": "horizontal",
            "style": "IPY_MODEL_5bcf2a7975fd4cad84874a579b62b7c8",
            "value": 5
          }
        },
        "5947ddba3252417a8dc8540a3e095ee0": {
          "model_module": "@jupyter-widgets/controls",
          "model_name": "HTMLModel",
          "model_module_version": "1.5.0",
          "state": {
            "_dom_classes": [],
            "_model_module": "@jupyter-widgets/controls",
            "_model_module_version": "1.5.0",
            "_model_name": "HTMLModel",
            "_view_count": null,
            "_view_module": "@jupyter-widgets/controls",
            "_view_module_version": "1.5.0",
            "_view_name": "HTMLView",
            "description": "",
            "description_tooltip": null,
            "layout": "IPY_MODEL_187851368fb44b529dc805555d62080d",
            "placeholder": "​",
            "style": "IPY_MODEL_c42b4b53731445b2b32dca7b70067816",
            "value": " 5/5 [00:00&lt;00:00, 15.72 file/s]"
          }
        },
        "fe14f70c7bad48d28b2a2a887f45560d": {
          "model_module": "@jupyter-widgets/base",
          "model_name": "LayoutModel",
          "model_module_version": "1.2.0",
          "state": {
            "_model_module": "@jupyter-widgets/base",
            "_model_module_version": "1.2.0",
            "_model_name": "LayoutModel",
            "_view_count": null,
            "_view_module": "@jupyter-widgets/base",
            "_view_module_version": "1.2.0",
            "_view_name": "LayoutView",
            "align_content": null,
            "align_items": null,
            "align_self": null,
            "border": null,
            "bottom": null,
            "display": null,
            "flex": null,
            "flex_flow": null,
            "grid_area": null,
            "grid_auto_columns": null,
            "grid_auto_flow": null,
            "grid_auto_rows": null,
            "grid_column": null,
            "grid_gap": null,
            "grid_row": null,
            "grid_template_areas": null,
            "grid_template_columns": null,
            "grid_template_rows": null,
            "height": null,
            "justify_content": null,
            "justify_items": null,
            "left": null,
            "margin": null,
            "max_height": null,
            "max_width": null,
            "min_height": null,
            "min_width": null,
            "object_fit": null,
            "object_position": null,
            "order": null,
            "overflow": null,
            "overflow_x": null,
            "overflow_y": null,
            "padding": null,
            "right": null,
            "top": null,
            "visibility": null,
            "width": null
          }
        },
        "8414c0d150b3499091c541ac52791906": {
          "model_module": "@jupyter-widgets/base",
          "model_name": "LayoutModel",
          "model_module_version": "1.2.0",
          "state": {
            "_model_module": "@jupyter-widgets/base",
            "_model_module_version": "1.2.0",
            "_model_name": "LayoutModel",
            "_view_count": null,
            "_view_module": "@jupyter-widgets/base",
            "_view_module_version": "1.2.0",
            "_view_name": "LayoutView",
            "align_content": null,
            "align_items": null,
            "align_self": null,
            "border": null,
            "bottom": null,
            "display": null,
            "flex": null,
            "flex_flow": null,
            "grid_area": null,
            "grid_auto_columns": null,
            "grid_auto_flow": null,
            "grid_auto_rows": null,
            "grid_column": null,
            "grid_gap": null,
            "grid_row": null,
            "grid_template_areas": null,
            "grid_template_columns": null,
            "grid_template_rows": null,
            "height": null,
            "justify_content": null,
            "justify_items": null,
            "left": null,
            "margin": null,
            "max_height": null,
            "max_width": null,
            "min_height": null,
            "min_width": null,
            "object_fit": null,
            "object_position": null,
            "order": null,
            "overflow": null,
            "overflow_x": null,
            "overflow_y": null,
            "padding": null,
            "right": null,
            "top": null,
            "visibility": null,
            "width": null
          }
        },
        "88cd00287760445885d03b147c109094": {
          "model_module": "@jupyter-widgets/controls",
          "model_name": "DescriptionStyleModel",
          "model_module_version": "1.5.0",
          "state": {
            "_model_module": "@jupyter-widgets/controls",
            "_model_module_version": "1.5.0",
            "_model_name": "DescriptionStyleModel",
            "_view_count": null,
            "_view_module": "@jupyter-widgets/base",
            "_view_module_version": "1.2.0",
            "_view_name": "StyleView",
            "description_width": ""
          }
        },
        "49e95b85432e42a8b4aab065a7158944": {
          "model_module": "@jupyter-widgets/base",
          "model_name": "LayoutModel",
          "model_module_version": "1.2.0",
          "state": {
            "_model_module": "@jupyter-widgets/base",
            "_model_module_version": "1.2.0",
            "_model_name": "LayoutModel",
            "_view_count": null,
            "_view_module": "@jupyter-widgets/base",
            "_view_module_version": "1.2.0",
            "_view_name": "LayoutView",
            "align_content": null,
            "align_items": null,
            "align_self": null,
            "border": null,
            "bottom": null,
            "display": null,
            "flex": null,
            "flex_flow": null,
            "grid_area": null,
            "grid_auto_columns": null,
            "grid_auto_flow": null,
            "grid_auto_rows": null,
            "grid_column": null,
            "grid_gap": null,
            "grid_row": null,
            "grid_template_areas": null,
            "grid_template_columns": null,
            "grid_template_rows": null,
            "height": null,
            "justify_content": null,
            "justify_items": null,
            "left": null,
            "margin": null,
            "max_height": null,
            "max_width": null,
            "min_height": null,
            "min_width": null,
            "object_fit": null,
            "object_position": null,
            "order": null,
            "overflow": null,
            "overflow_x": null,
            "overflow_y": null,
            "padding": null,
            "right": null,
            "top": null,
            "visibility": null,
            "width": null
          }
        },
        "5bcf2a7975fd4cad84874a579b62b7c8": {
          "model_module": "@jupyter-widgets/controls",
          "model_name": "ProgressStyleModel",
          "model_module_version": "1.5.0",
          "state": {
            "_model_module": "@jupyter-widgets/controls",
            "_model_module_version": "1.5.0",
            "_model_name": "ProgressStyleModel",
            "_view_count": null,
            "_view_module": "@jupyter-widgets/base",
            "_view_module_version": "1.2.0",
            "_view_name": "StyleView",
            "bar_color": null,
            "description_width": ""
          }
        },
        "187851368fb44b529dc805555d62080d": {
          "model_module": "@jupyter-widgets/base",
          "model_name": "LayoutModel",
          "model_module_version": "1.2.0",
          "state": {
            "_model_module": "@jupyter-widgets/base",
            "_model_module_version": "1.2.0",
            "_model_name": "LayoutModel",
            "_view_count": null,
            "_view_module": "@jupyter-widgets/base",
            "_view_module_version": "1.2.0",
            "_view_name": "LayoutView",
            "align_content": null,
            "align_items": null,
            "align_self": null,
            "border": null,
            "bottom": null,
            "display": null,
            "flex": null,
            "flex_flow": null,
            "grid_area": null,
            "grid_auto_columns": null,
            "grid_auto_flow": null,
            "grid_auto_rows": null,
            "grid_column": null,
            "grid_gap": null,
            "grid_row": null,
            "grid_template_areas": null,
            "grid_template_columns": null,
            "grid_template_rows": null,
            "height": null,
            "justify_content": null,
            "justify_items": null,
            "left": null,
            "margin": null,
            "max_height": null,
            "max_width": null,
            "min_height": null,
            "min_width": null,
            "object_fit": null,
            "object_position": null,
            "order": null,
            "overflow": null,
            "overflow_x": null,
            "overflow_y": null,
            "padding": null,
            "right": null,
            "top": null,
            "visibility": null,
            "width": null
          }
        },
        "c42b4b53731445b2b32dca7b70067816": {
          "model_module": "@jupyter-widgets/controls",
          "model_name": "DescriptionStyleModel",
          "model_module_version": "1.5.0",
          "state": {
            "_model_module": "@jupyter-widgets/controls",
            "_model_module_version": "1.5.0",
            "_model_name": "DescriptionStyleModel",
            "_view_count": null,
            "_view_module": "@jupyter-widgets/base",
            "_view_module_version": "1.2.0",
            "_view_name": "StyleView",
            "description_width": ""
          }
        }
      }
    }
  },
  "cells": [
    {
      "cell_type": "markdown",
      "metadata": {
        "id": "view-in-github",
        "colab_type": "text"
      },
      "source": [
        "<a href=\"https://colab.research.google.com/github/Pavitbagga/FURI-2024/blob/main/Project1CSE575.ipynb\" target=\"_parent\"><img src=\"https://colab.research.google.com/assets/colab-badge.svg\" alt=\"Open In Colab\"/></a>"
      ]
    },
    {
      "cell_type": "markdown",
      "source": [
        "Imports and read from tensorflow."
      ],
      "metadata": {
        "id": "_nKsKS65woP5"
      }
    },
    {
      "cell_type": "code",
      "execution_count": null,
      "metadata": {
        "id": "9gXpV0ZuwUYl",
        "colab": {
          "base_uri": "https://localhost:8080/",
          "height": 140,
          "referenced_widgets": [
            "f2a6ce7fa80e496284d98f2cd0160631",
            "a9ae2b5b770442ed91f89a6257b26791",
            "1e810de16b424ba58a06312636b57201",
            "5947ddba3252417a8dc8540a3e095ee0",
            "fe14f70c7bad48d28b2a2a887f45560d",
            "8414c0d150b3499091c541ac52791906",
            "88cd00287760445885d03b147c109094",
            "49e95b85432e42a8b4aab065a7158944",
            "5bcf2a7975fd4cad84874a579b62b7c8",
            "187851368fb44b529dc805555d62080d",
            "c42b4b53731445b2b32dca7b70067816"
          ]
        },
        "outputId": "375866ee-9a3f-4c82-d7cb-8354563150b5"
      },
      "outputs": [
        {
          "output_type": "stream",
          "name": "stdout",
          "text": [
            "Downloading and preparing dataset 11.06 MiB (download: 11.06 MiB, generated: 21.00 MiB, total: 32.06 MiB) to /root/tensorflow_datasets/mnist/3.0.1...\n"
          ]
        },
        {
          "output_type": "display_data",
          "data": {
            "text/plain": [
              "Dl Completed...:   0%|          | 0/5 [00:00<?, ? file/s]"
            ],
            "application/vnd.jupyter.widget-view+json": {
              "version_major": 2,
              "version_minor": 0,
              "model_id": "f2a6ce7fa80e496284d98f2cd0160631"
            }
          },
          "metadata": {}
        },
        {
          "output_type": "stream",
          "name": "stdout",
          "text": [
            "Dataset mnist downloaded and prepared to /root/tensorflow_datasets/mnist/3.0.1. Subsequent calls will reuse this data.\n",
            "(6265, 28, 28, 1)\n",
            "(5851, 28, 28, 1)\n"
          ]
        }
      ],
      "source": [
        "import scipy.io\n",
        "import numpy as np\n",
        "import matplotlib.pyplot as plt\n",
        "#!pip install tensorflow\n",
        "import tensorflow_datasets as tfds\n",
        "import matplotlib.pyplot as plt\n",
        "import pandas as pd\n",
        "\n",
        "# Load the MNIST dataset\n",
        "(ds_train, ds_test), _ = tfds.load(\n",
        "    'mnist',\n",
        "    split=['train', 'test'],\n",
        "    shuffle_files=True,\n",
        "    as_supervised=True,  # Load the data in tuple format (input, label)\n",
        "    with_info=True,\n",
        "    batch_size=-1  # Load the full dataset in one batch\n",
        ")\n",
        "\n",
        "train_images, train_labels = tfds.as_numpy(ds_train)\n",
        "\n",
        "# Function to filter images and their labels based on the label value\n",
        "def filter_images_and_labels(images, labels, label_value):\n",
        "    mask = labels == label_value\n",
        "    return images[mask], labels[mask]\n",
        "\n",
        "# Filter images and labels for class 7 and 8\n",
        "images_7, labels_7 = filter_images_and_labels(train_images, train_labels, 7)\n",
        "images_8, labels_8 = filter_images_and_labels(train_images, train_labels, 8)\n",
        "\n",
        "print(images_7.shape)\n",
        "print(images_8.shape)"
      ]
    },
    {
      "cell_type": "markdown",
      "source": [
        "Calculate Features"
      ],
      "metadata": {
        "id": "df9Z6kYOgdRV"
      }
    },
    {
      "cell_type": "code",
      "source": [
        "images_7_flat = images_7.reshape(images_7.shape[0], -1)\n",
        "images_8_flat = images_8.reshape(images_8.shape[0], -1)\n",
        "\n",
        "# Function to calculate the mean and standard deviation for images\n",
        "def calculate_features(images):\n",
        "    # Calculate the mean for each image\n",
        "    means = np.mean(images, axis=1)\n",
        "    # Calculate the standard deviation for each image\n",
        "    std_devs = np.std(images, axis=1)\n",
        "    return means, std_devs\n",
        "\n",
        "# Calculate features for images labeled as 7\n",
        "mean_7, std_dev_7 = calculate_features(images_7_flat)\n",
        "# Calculate features for images labeled as 8\n",
        "mean_8, std_dev_8 = calculate_features(images_8_flat)"
      ],
      "metadata": {
        "id": "_RhAsEIvM_id"
      },
      "execution_count": null,
      "outputs": []
    },
    {
      "cell_type": "markdown",
      "source": [
        "# Bayes Classifier"
      ],
      "metadata": {
        "id": "wmUj-8v-zX7I"
      }
    },
    {
      "cell_type": "markdown",
      "source": [
        "Recall Bayes Theorum P(A|B) = P(B|A)P(A)/P(B)\n",
        "\n",
        "> Add blockquote\n",
        "\n"
      ],
      "metadata": {
        "id": "--_BiZEs2-nN"
      }
    },
    {
      "cell_type": "code",
      "source": [
        "size_total = images_7.shape[0]+images_8.shape[0]\n",
        "prior_7 = images_7.shape[0]/size_total\n",
        "prior_8 = images_8.shape[0]/size_total\n",
        "print(prior_7)\n",
        "print(prior_8)"
      ],
      "metadata": {
        "colab": {
          "base_uri": "https://localhost:8080/"
        },
        "id": "AxlEKLHZ2D6z",
        "outputId": "27c8ac2f-2782-4f41-9b39-dbd4b21d425d"
      },
      "execution_count": null,
      "outputs": [
        {
          "output_type": "stream",
          "name": "stdout",
          "text": [
            "0.5170848464839881\n",
            "0.4829151535160119\n"
          ]
        }
      ]
    },
    {
      "cell_type": "markdown",
      "source": [
        "Parameters"
      ],
      "metadata": {
        "id": "tOdtmBDAPPDR"
      }
    },
    {
      "cell_type": "code",
      "source": [
        "params_7 = {\n",
        "    'mean_mean': np.mean(mean_7), 'var_mean': np.var(mean_7),\n",
        "    'mean_std': np.mean(std_dev_7), 'var_std': np.var(std_dev_7)\n",
        "}\n",
        "params_8 = {\n",
        "    'mean_mean': np.mean(mean_8), 'var_mean': np.var(mean_8),\n",
        "    'mean_std': np.mean(std_dev_8), 'var_std': np.var(std_dev_8)\n",
        "}"
      ],
      "metadata": {
        "id": "oSSjNkYlPTmt"
      },
      "execution_count": null,
      "outputs": []
    },
    {
      "cell_type": "markdown",
      "source": [
        "Gaussian and Classification"
      ],
      "metadata": {
        "id": "HNJQKbzcCjau"
      }
    },
    {
      "cell_type": "code",
      "source": [
        "def gaussian_pdf(x, mean, var):\n",
        "    \"\"\" Probability density function for a Gaussian. \"\"\"\n",
        "    return (1 / np.sqrt(2 * np.pi * var)) * np.exp(-((x - mean) ** 2) / (2 * var))\n",
        "\n",
        "def classify(image, params_7, params_8, prior_7, prior_8):\n",
        "    mean, std_dev = np.mean(image), np.std(image)\n",
        "\n",
        "    # Calculate log probabilities for class 7\n",
        "    log_likelihood_7 = np.log(gaussian_pdf(mean, params_7['mean_mean'], params_7['var_mean']))\n",
        "    log_likelihood_7 += np.log(gaussian_pdf(std_dev, params_7['mean_std'], params_7['var_std']))\n",
        "    log_prob_7 = log_likelihood_7 + np.log(prior_7)\n",
        "\n",
        "    # Calculate log probabilities for class 8\n",
        "    log_likelihood_8 = np.log(gaussian_pdf(mean, params_8['mean_mean'], params_8['var_mean']))\n",
        "    log_likelihood_8 += np.log(gaussian_pdf(std_dev, params_8['mean_std'], params_8['var_std']))\n",
        "    log_prob_8 = log_likelihood_8 + np.log(prior_8)\n",
        "\n",
        "    # Predict by comparing log probabilities\n",
        "    if log_prob_7 > log_prob_8:\n",
        "        return 7\n",
        "    else:\n",
        "        return 8"
      ],
      "metadata": {
        "id": "8z4EY536Q9md"
      },
      "execution_count": null,
      "outputs": []
    },
    {
      "cell_type": "markdown",
      "source": [
        "# Test"
      ],
      "metadata": {
        "id": "7lunQercSi_e"
      }
    },
    {
      "cell_type": "code",
      "source": [
        "test_images, test_labels = tfds.as_numpy(ds_test)\n",
        "test_images_7, test_labels_7 = filter_images_and_labels(test_images, test_labels, 7)\n",
        "test_images_8, test_labels_8 = filter_images_and_labels(test_images, test_labels, 8)\n",
        "print(\"Test Images for class 7:\", test_images_7.shape)\n",
        "print(\"Test Images for class 8:\", test_images_8.shape)\n",
        "\n",
        "combined_test_images = np.concatenate((test_images_7, test_images_8), axis=0)\n",
        "combined_test_labels = np.concatenate((test_labels_7, test_labels_8), axis=0)\n"
      ],
      "metadata": {
        "colab": {
          "base_uri": "https://localhost:8080/"
        },
        "id": "0AeMmA11SiLd",
        "outputId": "2959dcef-0d99-4106-b95f-e246afd082f7"
      },
      "execution_count": null,
      "outputs": [
        {
          "output_type": "stream",
          "name": "stdout",
          "text": [
            "Test Images for class 7: (1028, 28, 28, 1)\n",
            "Test Images for class 8: (974, 28, 28, 1)\n"
          ]
        }
      ]
    },
    {
      "cell_type": "markdown",
      "source": [
        "Classify for all"
      ],
      "metadata": {
        "id": "g1Lp95BFS9lh"
      }
    },
    {
      "cell_type": "code",
      "source": [
        "predicted_labels_all = np.array([classify(img, params_7, params_8, prior_7, prior_8) for img in combined_test_images])\n"
      ],
      "metadata": {
        "id": "uhsw_hO7S8xA"
      },
      "execution_count": null,
      "outputs": []
    },
    {
      "cell_type": "code",
      "source": [
        "true_labels = combined_test_labels\n",
        "# Calculate overall accuracy\n",
        "accuracy_all = np.mean(predicted_labels_all == true_labels)\n",
        "print(f\"Overall Accuracy of the classifier on the combined test set: {accuracy_all * 100:.2f}%\")"
      ],
      "metadata": {
        "colab": {
          "base_uri": "https://localhost:8080/"
        },
        "id": "k08yYUcKTCm5",
        "outputId": "651761ab-1952-4731-db7b-6004a6d0ebf8"
      },
      "execution_count": null,
      "outputs": [
        {
          "output_type": "stream",
          "name": "stdout",
          "text": [
            "Overall Accuracy of the classifier on the combined test set: 69.53%\n"
          ]
        }
      ]
    },
    {
      "cell_type": "markdown",
      "source": [
        "For 7's"
      ],
      "metadata": {
        "id": "bx47ro9fGsRJ"
      }
    },
    {
      "cell_type": "code",
      "source": [
        "indices_7 = (true_labels == 7)\n",
        "correct_predictions_7 = predicted_labels_all[indices_7] == true_labels[indices_7]\n",
        "accuracy_7 = np.mean(correct_predictions_7)\n",
        "print(f\"Accuracy for class 7: {accuracy_7 * 100:.2f}%\")\n"
      ],
      "metadata": {
        "colab": {
          "base_uri": "https://localhost:8080/"
        },
        "id": "XwUtyjq7Gsfz",
        "outputId": "9560c438-fef9-4d22-cfc6-19e58ba5cc93"
      },
      "execution_count": null,
      "outputs": [
        {
          "output_type": "stream",
          "name": "stdout",
          "text": [
            "Accuracy for class 7: 75.97%\n"
          ]
        }
      ]
    },
    {
      "cell_type": "markdown",
      "source": [
        "For 8's"
      ],
      "metadata": {
        "id": "ISYCfiEnHRsH"
      }
    },
    {
      "cell_type": "code",
      "source": [
        "indices_8 = (true_labels == 8)\n",
        "correct_predictions_8 = predicted_labels_all[indices_8] == true_labels[indices_8]\n",
        "accuracy_8 = np.mean(correct_predictions_8)\n",
        "print(f\"Accuracy for class 8: {accuracy_8 * 100:.2f}%\")"
      ],
      "metadata": {
        "colab": {
          "base_uri": "https://localhost:8080/"
        },
        "id": "dVhYqcJDHTqX",
        "outputId": "e4bf7a0e-3dec-4b97-935b-6e615104720e"
      },
      "execution_count": null,
      "outputs": [
        {
          "output_type": "stream",
          "name": "stdout",
          "text": [
            "Accuracy for class 8: 62.73%\n"
          ]
        }
      ]
    }
  ]
}